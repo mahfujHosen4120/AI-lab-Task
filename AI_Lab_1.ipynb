{
  "cells": [
    {
      "cell_type": "markdown",
      "metadata": {
        "colab_type": "text",
        "id": "view-in-github"
      },
      "source": [
        "<a href=\"https://colab.research.google.com/github/Partho4122/AI-LAB/blob/main/AI_Lab_1.ipynb\" target=\"_parent\"><img src=\"https://colab.research.google.com/assets/colab-badge.svg\" alt=\"Open In Colab\"/></a>"
      ]
    },
    {
      "cell_type": "code",
      "execution_count": 2,
      "metadata": {
        "colab": {
          "base_uri": "https://localhost:8080/"
        },
        "id": "qx0SBjfGGjrV",
        "outputId": "f52b8b6f-67c3-4352-e101-e38fd26a8ffd"
      },
      "outputs": [
        {
          "name": "stdout",
          "output_type": "stream",
          "text": [
            "['hp', 'lenove', 'serfece', 'asus', 'msi', 'macbook', 'gigabit']\n",
            "7\n",
            "<class 'list'>\n",
            "lenove\n",
            "gigabit\n",
            "['serfece', 'asus', 'msi']\n",
            "['hp', 'lenove', 'serfece', 'asus']\n",
            "['serfece', 'asus', 'msi', 'macbook', 'gigabit']\n"
          ]
        }
      ],
      "source": [
        "thislist = [\"hp\", \"lenove\", \"serfece\", \"asus\", \"msi\", \"macbook\", \"gigabit\"]\n",
        "print(thislist)\n",
        "print(len(thislist))  \n",
        "print(type(thislist))  \n",
        "print(thislist[1])     \n",
        "print(thislist[-1])     \n",
        "print(thislist[2:5])    \n",
        "print(thislist[:4])     \n",
        "\n",
        "print(thislist[2:])    "
      ]
    },
    {
      "cell_type": "code",
      "execution_count": 3,
      "metadata": {
        "colab": {
          "base_uri": "https://localhost:8080/"
        },
        "id": "lh2NUWTwHnci",
        "outputId": "4b6d7556-a7b0-47c4-c245-45f44da50523"
      },
      "outputs": [
        {
          "name": "stdout",
          "output_type": "stream",
          "text": [
            "['phy', 'ict', 'math']\n",
            "['phy', 'ict', 'eng', 'math']\n",
            "['phy', 'ict', 'eng', 'math', 'ban']\n",
            "['ict', 'eng', 'math', 'ban']\n",
            "['ban', 'eng', 'ict', 'math']\n",
            "['ban', 'eng', 'ict', 'math']\n",
            "['a', 'b', 'c', 1, 2, 3]\n"
          ]
        }
      ],
      "source": [
        "thislist = [\"phy\", \"che\", \"math\"]\n",
        "thislist[1] = \"ict\"\n",
        "print(thislist)\n",
        "\n",
        "thislist.insert(2, \"eng\")\n",
        "print(thislist)\n",
        "\n",
        "thislist.append(\"ban\")\n",
        "print(thislist)\n",
        "\n",
        "thislist.remove(\"phy\")\n",
        "print(thislist)\n",
        "\n",
        "thislist.sort()\n",
        "print(thislist)\n",
        "\n",
        "mylist = thislist.copy()\n",
        "print(mylist)\n",
        "\n",
        "list1 = [\"a\", \"b\", \"c\"]\n",
        "list2 = [1, 2, 3]\n",
        "\n",
        "list3 = list1 + list2\n",
        "print(list3)"
      ]
    },
    {
      "cell_type": "markdown",
      "metadata": {
        "id": "YtU4LqaaJCOj"
      },
      "source": [
        "***slicing***"
      ]
    },
    {
      "cell_type": "code",
      "execution_count": 4,
      "metadata": {
        "colab": {
          "base_uri": "https://localhost:8080/"
        },
        "id": "M0_oNAL1JIAf",
        "outputId": "4a9a394f-9cb1-457c-ed43-784b30a95386"
      },
      "outputs": [
        {
          "name": "stdout",
          "output_type": "stream",
          "text": [
            "('d', 'e')\n",
            "('a', 'd', 'g')\n"
          ]
        }
      ],
      "source": [
        "a = (\"a\", \"b\", \"c\", \"d\", \"e\", \"f\", \"g\", \"h\")\n",
        "x = slice(3, 5)\n",
        "print(a[x])\n",
        "\n",
        "x = slice(0, 8, 3)\n",
        "print(a[x])"
      ]
    },
    {
      "cell_type": "markdown",
      "metadata": {
        "id": "sJhmYQm1KyC2"
      },
      "source": [
        "***File***"
      ]
    },
    {
      "cell_type": "code",
      "execution_count": 7,
      "metadata": {
        "colab": {
          "base_uri": "https://localhost:8080/"
        },
        "id": "cTDzkWa_MTxH",
        "outputId": "082b0a69-b4e3-4018-ab2d-205626b868d2"
      },
      "outputs": [
        {
          "name": "stdout",
          "output_type": "stream",
          "text": [
            "write\n"
          ]
        }
      ],
      "source": [
        "f = open(\"a.txt\", \"a\")\n",
        "f.write(\"write\")\n",
        "f.close()\n",
        "\n",
        "\n",
        "f = open(\"a.txt\", \"r\")\n",
        "print(f.read())"
      ]
    }
  ],
  "metadata": {
    "colab": {
      "authorship_tag": "ABX9TyMNaKMB9gadJa9ABPuMWoIN",
      "include_colab_link": true,
      "provenance": []
    },
    "kernelspec": {
      "display_name": "Python 3",
      "name": "python3"
    },
    "language_info": {
      "codemirror_mode": {
        "name": "ipython",
        "version": 3
      },
      "file_extension": ".py",
      "mimetype": "text/x-python",
      "name": "python",
      "nbconvert_exporter": "python",
      "pygments_lexer": "ipython3",
      "version": "3.11.1"
    }
  },
  "nbformat": 4,
  "nbformat_minor": 0
}
